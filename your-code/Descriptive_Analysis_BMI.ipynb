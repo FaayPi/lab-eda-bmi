{
 "cells": [
  {
   "cell_type": "markdown",
   "id": "8669f4e7",
   "metadata": {},
   "source": [
    "# LAB | BMI Survey \n"
   ]
  },
  {
   "cell_type": "markdown",
   "id": "0e1c2d9c",
   "metadata": {},
   "source": [
    "## Part 1: Descriptive Analysis\n",
    "\n",
    "## Problem Description\n",
    "\n",
    "Overweight and obesity, measured by Body Mass Index (BMI), are increasing health concerns in Denmark and globally. This project analyzes BMI data from a Danish survey to provide an overview of BMI distributions and investigate potential factors influencing BMI, such as gender, age, and fast food consumption. The analysis aims to summarize and visualize the data using descriptive statistics and graphical methods.\n",
    "\n",
    "---\n",
    "\n",
    "## Instructions\n",
    "\n",
    "- Complete each section below using Python and appropriate libraries (e.g., pandas, numpy, matplotlib, seaborn).\n",
    "- Provide code, tables, and figures as needed.\n",
    "- Write brief explanations for your findings after each analysis step.\n",
    "- Do **not** include code in your final report; code should be submitted separately as an appendix.\n",
    "- Ensure all figures and tables are clearly labeled and referenced in your explanations.\n",
    "\n",
    "---"
   ]
  },
  {
   "cell_type": "markdown",
   "id": "77e1a6b2",
   "metadata": {},
   "source": [
    "## Q1. Data Overview\n",
    "\n",
    "**a) Short Description of the Data**\n",
    "\n",
    "- List all variables in the dataset.\n",
    "- Classify each variable as quantitative or categorical.\n",
    "- State the number of observations.\n",
    "- Check for missing values.\n",
    "\n",
    "\n",
    "**Instructions:**  \n",
    "- Summarize the dataset variables and their types.\n",
    "- Report the number of observations and any missing values.\n",
    "\n",
    "---"
   ]
  },
  {
   "cell_type": "code",
   "execution_count": 1,
   "id": "4442d117",
   "metadata": {},
   "outputs": [],
   "source": [
    "## TODO\n",
    "### Insert your Answer Here ###"
   ]
  },
  {
   "cell_type": "markdown",
   "id": "66836fef",
   "metadata": {},
   "source": [
    "## 2. Calculating BMI\n",
    "\n",
    "- Compute BMI for each respondent using the formula:\n",
    "\n",
    "  $$\\text{BMI} = \\frac{\\text{weight (kg)}}{\\left[\\text{height (m)}\\right]^2}$$\n",
    "\n",
    "- Add BMI as a new column to the dataset.\n",
    "\n",
    "---\n"
   ]
  },
  {
   "cell_type": "code",
   "execution_count": 2,
   "id": "8405a5df",
   "metadata": {},
   "outputs": [],
   "source": [
    "## TODO\n",
    "### Insert your Answer Here ###"
   ]
  },
  {
   "cell_type": "markdown",
   "id": "2135e50c",
   "metadata": {},
   "source": [
    "\n",
    "## 3. Empirical Distribution of BMI\n",
    "\n",
    "**b) Density Histogram of BMI Scores**\n",
    "\n",
    "- Plot a density histogram of BMI.\n",
    "- Describe the distribution: symmetry, skewness, possible negative values, and variation.\n",
    "\n",
    "**Instructions:**  \n",
    "- Comment on the shape and spread of the BMI distribution.\n",
    "\n",
    "---\n"
   ]
  },
  {
   "cell_type": "code",
   "execution_count": 3,
   "id": "ec9854e2",
   "metadata": {},
   "outputs": [],
   "source": [
    "## TODO\n",
    "### Insert your Answer Here ###"
   ]
  },
  {
   "cell_type": "markdown",
   "id": "6b1f9177",
   "metadata": {},
   "source": [
    "\n",
    "## 4. Gender Subsets\n",
    "\n",
    "**c) Separate Density Histograms for Women and Men**\n",
    "\n",
    "- Create subsets for women and men.\n",
    "- Plot density histograms for each group.\n",
    "- Compare and describe the distributions.\n",
    "\n",
    "\n",
    "**Instructions:**  \n",
    "- Discuss any gender differences in the BMI distributions.\n",
    "\n",
    "---\n"
   ]
  },
  {
   "cell_type": "code",
   "execution_count": 4,
   "id": "907c3816",
   "metadata": {},
   "outputs": [],
   "source": [
    "## TODO\n",
    "### Insert your Answer Here ###"
   ]
  },
  {
   "cell_type": "markdown",
   "id": "4eaccc3d",
   "metadata": {},
   "source": [
    "\n",
    "## 5. Boxplot by Gender\n",
    "\n",
    "**d) Box Plot of BMI by Gender**\n",
    "\n",
    "- Create a box plot of BMI scores grouped by gender.\n",
    "- Describe the distribution, symmetry/skewness, differences, and outliers.\n",
    "\n",
    "**Instructions:**  \n",
    "- Interpret the box plot and compare distributions.\n",
    "\n",
    "---\n"
   ]
  },
  {
   "cell_type": "code",
   "execution_count": 5,
   "id": "2de99253",
   "metadata": {},
   "outputs": [],
   "source": [
    "## TODO\n",
    "### Insert your Answer Here ###"
   ]
  },
  {
   "cell_type": "markdown",
   "id": "732695af",
   "metadata": {},
   "source": [
    "## 6. Summary Statistics\n",
    "\n",
    "**e) Key Summary Statistics for BMI**\n",
    "\n",
    "- Calculate and report the following for everyone, women, and men:\n",
    "  - Number of observations (n)\n",
    "  - Sample mean (\\(\\bar{x}\\))\n",
    "  - Sample variance (\\(s^2\\))\n",
    "  - Sample standard deviation (\\(s\\))\n",
    "  - Lower quartile (Q1)\n",
    "  - Median (Q2)\n",
    "  - Upper quartile (Q3)\n",
    "\n",
    "**Instructions:**  \n",
    "- Present the summary statistics in a table.\n",
    "- Discuss what additional insights are provided by the table compared to the box plot.\n",
    "\n",
    "---\n"
   ]
  },
  {
   "cell_type": "code",
   "execution_count": 6,
   "id": "c1bdddfe",
   "metadata": {},
   "outputs": [],
   "source": [
    "## TODO\n",
    "### Insert your Answer Here ###"
   ]
  },
  {
   "cell_type": "markdown",
   "id": "c1482d05",
   "metadata": {},
   "source": [
    "## Part 2: Missing Values, Outliers, and Bivariate EDA"
   ]
  },
  {
   "cell_type": "markdown",
   "id": "d551c589",
   "metadata": {},
   "source": [
    "## 1. Missing Values\n",
    "\n",
    "- List the number of missing values for each variable in the dataset.\n",
    "- Choose and apply appropriate strategies for handling missing values (e.g., removal, imputation).\n",
    "- Justify your chosen approach.\n",
    "- Show the number of observations before and after handling missing values."
   ]
  },
  {
   "cell_type": "code",
   "execution_count": 8,
   "id": "903400c1",
   "metadata": {},
   "outputs": [],
   "source": [
    "## TODO\n",
    "### Insert your Answer Here ###"
   ]
  },
  {
   "cell_type": "markdown",
   "id": "b8f2f22d",
   "metadata": {},
   "source": [
    "## 2. Outlier Detection and Handling\n",
    "\n",
    "### a) Identifying Outliers\n",
    "\n",
    "- Use visual (boxplots, scatterplots) and statistical methods (e.g., IQR rule, z-scores) to detect outliers in BMI, height, and weight.\n",
    "- List any extreme values found and discuss whether they are plausible or likely errors.\n",
    "\n"
   ]
  },
  {
   "cell_type": "code",
   "execution_count": 9,
   "id": "89b5d35f",
   "metadata": {},
   "outputs": [],
   "source": [
    "## TODO\n",
    "### Insert your Answer Here ###"
   ]
  },
  {
   "cell_type": "markdown",
   "id": "59bafb14",
   "metadata": {},
   "source": [
    "\n",
    "### b) Handling Outliers\n",
    "\n",
    "- Decide how to handle detected outliers (e.g., keep, remove, or correct).\n",
    "- Justify your approach and show the effect on the dataset.\n",
    "\n"
   ]
  },
  {
   "cell_type": "code",
   "execution_count": 10,
   "id": "8979b7a2",
   "metadata": {},
   "outputs": [],
   "source": [
    "## TODO\n",
    "### Insert your Answer Here ###"
   ]
  },
  {
   "cell_type": "markdown",
   "id": "95f701d4",
   "metadata": {},
   "source": [
    "## 3. Bivariate Exploratory Data Analysis (EDA)\n",
    "\n",
    "### a) BMI and Fast Food Consumption\n",
    "\n",
    "- Create a scatter plot of BMI vs. fast food consumption.\n",
    "- Calculate and interpret the correlation coefficient.\n",
    "- Comment on any patterns or associations observed."
   ]
  },
  {
   "cell_type": "code",
   "execution_count": 11,
   "id": "807eb720",
   "metadata": {},
   "outputs": [],
   "source": [
    "## TODO\n",
    "### Insert your Answer Here ###"
   ]
  },
  {
   "cell_type": "markdown",
   "id": "32748d3a",
   "metadata": {},
   "source": [
    "### b) BMI by Gender\n",
    "\n",
    "- Use boxplots or violin plots to compare BMI distributions between genders.\n",
    "- Test for significant differences (e.g., t-test or Mann-Whitney U test)."
   ]
  },
  {
   "cell_type": "code",
   "execution_count": 12,
   "id": "35386a30",
   "metadata": {},
   "outputs": [],
   "source": [
    "## TODO\n",
    "### Insert your Answer Here ###"
   ]
  },
  {
   "cell_type": "markdown",
   "id": "fc3331ee",
   "metadata": {},
   "source": [
    "### c) BMI by Urbanity\n",
    "\n",
    "- Visualize BMI across different urbanity categories using boxplots or bar plots.\n",
    "- Discuss any differences or trends."
   ]
  },
  {
   "cell_type": "code",
   "execution_count": 13,
   "id": "ca559b85",
   "metadata": {},
   "outputs": [],
   "source": [
    "## TODO\n",
    "### Insert your Answer Here ###"
   ]
  },
  {
   "cell_type": "markdown",
   "id": "a954c81c",
   "metadata": {},
   "source": [
    "### d) Additional Bivariate Relationships\n",
    "\n",
    "- Explore other pairs of variables as relevant (e.g., weight vs. height, fast food vs. gender).\n",
    "- Use appropriate plots and statistics."
   ]
  },
  {
   "cell_type": "code",
   "execution_count": 14,
   "id": "43e7e68c",
   "metadata": {},
   "outputs": [],
   "source": [
    "## TODO\n",
    "### Insert your Answer Here ###"
   ]
  },
  {
   "cell_type": "markdown",
   "id": "45eb2cf5",
   "metadata": {},
   "source": [
    "## 4. Summary\n",
    "\n",
    "- Summarize the key findings from your missing value analysis, outlier handling, and bivariate EDA.\n",
    "- Discuss how these steps improve the quality and reliability of your subsequent analyses."
   ]
  },
  {
   "cell_type": "code",
   "execution_count": 15,
   "id": "88e7f25f",
   "metadata": {},
   "outputs": [],
   "source": [
    "## TODO\n",
    "### Insert your Answer Here ###"
   ]
  },
  {
   "cell_type": "markdown",
   "id": "5239068c",
   "metadata": {},
   "source": [
    "Happy Coding .... ;) "
   ]
  }
 ],
 "metadata": {
  "kernelspec": {
   "display_name": "Python 3",
   "language": "python",
   "name": "python3"
  },
  "language_info": {
   "codemirror_mode": {
    "name": "ipython",
    "version": 3
   },
   "file_extension": ".py",
   "mimetype": "text/x-python",
   "name": "python",
   "nbconvert_exporter": "python",
   "pygments_lexer": "ipython3",
   "version": "3.8.0"
  }
 },
 "nbformat": 4,
 "nbformat_minor": 5
}
